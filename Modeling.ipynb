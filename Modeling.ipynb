{
 "cells": [
  {
   "cell_type": "code",
   "execution_count": 1,
   "metadata": {},
   "outputs": [],
   "source": [
    "import pandas as pd\n",
    "import numpy as np\n",
    "import pickle\n",
    "import matplotlib.pyplot as plt\n",
    "from sklearn.ensemble import AdaBoostClassifier, BaggingClassifier, GradientBoostingClassifier,RandomForestClassifier\n",
    "from sklearn.tree import DecisionTreeClassifier\n",
    "from sklearn.metrics import roc_curve, average_precision_score\n",
    "from sklearn.model_selection import train_test_split\n",
    "from sklearn.preprocessing import StandardScaler\n",
    "from sklearn.utils import resample\n",
    "\n",
    "from src.fraud import preproc, trimvars, model_summary,output_threshold\n",
    "pd.options.display.float_format = '{:.3f}'.format"
   ]
  },
  {
   "cell_type": "code",
   "execution_count": 2,
   "metadata": {},
   "outputs": [
    {
     "name": "stdout",
     "output_type": "stream",
     "text": [
      "<class 'pandas.core.frame.DataFrame'>\n",
      "RangeIndex: 14337 entries, 0 to 14336\n",
      "Data columns (total 32 columns):\n",
      "fraud                 14337 non-null int64\n",
      "has_analytics         14337 non-null int64\n",
      "has_logo              14337 non-null int64\n",
      "fb_published          14337 non-null int64\n",
      "name_length           14337 non-null int64\n",
      "user_age              14337 non-null int64\n",
      "A1                    14337 non-null uint8\n",
      "AU                    14337 non-null uint8\n",
      "CA                    14337 non-null uint8\n",
      "CH                    14337 non-null uint8\n",
      "CI                    14337 non-null uint8\n",
      "CZ                    14337 non-null uint8\n",
      "DZ                    14337 non-null uint8\n",
      "GB                    14337 non-null uint8\n",
      "ID                    14337 non-null uint8\n",
      "KH                    14337 non-null uint8\n",
      "MA                    14337 non-null uint8\n",
      "NG                    14337 non-null uint8\n",
      "PH                    14337 non-null uint8\n",
      "PK                    14337 non-null uint8\n",
      "US                    14337 non-null uint8\n",
      "VN                    14337 non-null uint8\n",
      "user_1                14337 non-null uint8\n",
      "user_3                14337 non-null uint8\n",
      "user_4                14337 non-null uint8\n",
      "body_0                14337 non-null int64\n",
      "duration              14337 non-null int64\n",
      "cost min              14337 non-null float64\n",
      "cost max              14337 non-null float64\n",
      "quantity_total sum    14337 non-null float64\n",
      "ticket_tiers_num      14337 non-null int64\n",
      "object_id             14337 non-null int64\n",
      "dtypes: float64(3), int64(10), uint8(19)\n",
      "memory usage: 1.7 MB\n"
     ]
    }
   ],
   "source": [
    "raw = pd.read_json('data/data.json')\n",
    "raw['fraud'] = raw.acct_type.apply(lambda x: ('fraud' in x)*1)\n",
    "df = preproc(raw)\n",
    "trim = trimvars(df,'fraud','object_id')\n",
    "df = df[trim]\n",
    "df.info()"
   ]
  },
  {
   "cell_type": "code",
   "execution_count": 3,
   "metadata": {},
   "outputs": [
    {
     "name": "stdout",
     "output_type": "stream",
     "text": [
      "Total:  14337\n",
      "Fraud Rate:  0.09018623142916929\n"
     ]
    }
   ],
   "source": [
    "target = 'fraud'\n",
    "id_col = 'object_id'\n",
    "X = df.drop('fraud',axis=1)\n",
    "y = df[['fraud','object_id']]\n",
    "print('Total: ',len(df))\n",
    "print('Fraud Rate: ', df.fraud.sum()/len(df))"
   ]
  },
  {
   "cell_type": "code",
   "execution_count": 4,
   "metadata": {},
   "outputs": [
    {
     "data": {
      "text/html": [
       "<div>\n",
       "<style scoped>\n",
       "    .dataframe tbody tr th:only-of-type {\n",
       "        vertical-align: middle;\n",
       "    }\n",
       "\n",
       "    .dataframe tbody tr th {\n",
       "        vertical-align: top;\n",
       "    }\n",
       "\n",
       "    .dataframe thead th {\n",
       "        text-align: right;\n",
       "    }\n",
       "</style>\n",
       "<table border=\"1\" class=\"dataframe\">\n",
       "  <thead>\n",
       "    <tr style=\"text-align: right;\">\n",
       "      <th></th>\n",
       "      <th>fraud</th>\n",
       "      <th>has_analytics</th>\n",
       "      <th>has_logo</th>\n",
       "      <th>fb_published</th>\n",
       "      <th>name_length</th>\n",
       "      <th>user_age</th>\n",
       "      <th>A1</th>\n",
       "      <th>AU</th>\n",
       "      <th>CA</th>\n",
       "      <th>CH</th>\n",
       "      <th>...</th>\n",
       "      <th>user_1</th>\n",
       "      <th>user_3</th>\n",
       "      <th>user_4</th>\n",
       "      <th>body_0</th>\n",
       "      <th>duration</th>\n",
       "      <th>cost min</th>\n",
       "      <th>cost max</th>\n",
       "      <th>quantity_total sum</th>\n",
       "      <th>ticket_tiers_num</th>\n",
       "      <th>object_id</th>\n",
       "    </tr>\n",
       "  </thead>\n",
       "  <tbody>\n",
       "    <tr>\n",
       "      <th>count</th>\n",
       "      <td>14337.000</td>\n",
       "      <td>14337.000</td>\n",
       "      <td>14337.000</td>\n",
       "      <td>14337.000</td>\n",
       "      <td>14337.000</td>\n",
       "      <td>14337.000</td>\n",
       "      <td>14337.000</td>\n",
       "      <td>14337.000</td>\n",
       "      <td>14337.000</td>\n",
       "      <td>14337.000</td>\n",
       "      <td>...</td>\n",
       "      <td>14337.000</td>\n",
       "      <td>14337.000</td>\n",
       "      <td>14337.000</td>\n",
       "      <td>14337.000</td>\n",
       "      <td>14337.000</td>\n",
       "      <td>14337.000</td>\n",
       "      <td>14337.000</td>\n",
       "      <td>14337.000</td>\n",
       "      <td>14337.000</td>\n",
       "      <td>14337.000</td>\n",
       "    </tr>\n",
       "    <tr>\n",
       "      <th>mean</th>\n",
       "      <td>0.090</td>\n",
       "      <td>0.073</td>\n",
       "      <td>0.842</td>\n",
       "      <td>0.127</td>\n",
       "      <td>41.629</td>\n",
       "      <td>374.227</td>\n",
       "      <td>0.002</td>\n",
       "      <td>0.052</td>\n",
       "      <td>0.088</td>\n",
       "      <td>0.000</td>\n",
       "      <td>...</td>\n",
       "      <td>0.261</td>\n",
       "      <td>0.525</td>\n",
       "      <td>0.210</td>\n",
       "      <td>0.058</td>\n",
       "      <td>0.103</td>\n",
       "      <td>67.161</td>\n",
       "      <td>191.936</td>\n",
       "      <td>6850.337</td>\n",
       "      <td>2.694</td>\n",
       "      <td>4531344.364</td>\n",
       "    </tr>\n",
       "    <tr>\n",
       "      <th>std</th>\n",
       "      <td>0.286</td>\n",
       "      <td>0.260</td>\n",
       "      <td>0.365</td>\n",
       "      <td>0.333</td>\n",
       "      <td>23.158</td>\n",
       "      <td>418.594</td>\n",
       "      <td>0.042</td>\n",
       "      <td>0.222</td>\n",
       "      <td>0.283</td>\n",
       "      <td>0.020</td>\n",
       "      <td>...</td>\n",
       "      <td>0.439</td>\n",
       "      <td>0.499</td>\n",
       "      <td>0.408</td>\n",
       "      <td>0.233</td>\n",
       "      <td>0.305</td>\n",
       "      <td>287.004</td>\n",
       "      <td>1373.360</td>\n",
       "      <td>337145.229</td>\n",
       "      <td>3.840</td>\n",
       "      <td>1987660.639</td>\n",
       "    </tr>\n",
       "    <tr>\n",
       "      <th>min</th>\n",
       "      <td>0.000</td>\n",
       "      <td>0.000</td>\n",
       "      <td>0.000</td>\n",
       "      <td>0.000</td>\n",
       "      <td>0.000</td>\n",
       "      <td>0.000</td>\n",
       "      <td>0.000</td>\n",
       "      <td>0.000</td>\n",
       "      <td>0.000</td>\n",
       "      <td>0.000</td>\n",
       "      <td>...</td>\n",
       "      <td>0.000</td>\n",
       "      <td>0.000</td>\n",
       "      <td>0.000</td>\n",
       "      <td>0.000</td>\n",
       "      <td>0.000</td>\n",
       "      <td>-1.160</td>\n",
       "      <td>0.000</td>\n",
       "      <td>0.000</td>\n",
       "      <td>0.000</td>\n",
       "      <td>47146.000</td>\n",
       "    </tr>\n",
       "    <tr>\n",
       "      <th>25%</th>\n",
       "      <td>0.000</td>\n",
       "      <td>0.000</td>\n",
       "      <td>1.000</td>\n",
       "      <td>0.000</td>\n",
       "      <td>26.000</td>\n",
       "      <td>13.000</td>\n",
       "      <td>0.000</td>\n",
       "      <td>0.000</td>\n",
       "      <td>0.000</td>\n",
       "      <td>0.000</td>\n",
       "      <td>...</td>\n",
       "      <td>0.000</td>\n",
       "      <td>0.000</td>\n",
       "      <td>0.000</td>\n",
       "      <td>0.000</td>\n",
       "      <td>0.000</td>\n",
       "      <td>4.000</td>\n",
       "      <td>15.000</td>\n",
       "      <td>36.000</td>\n",
       "      <td>1.000</td>\n",
       "      <td>2902989.000</td>\n",
       "    </tr>\n",
       "    <tr>\n",
       "      <th>50%</th>\n",
       "      <td>0.000</td>\n",
       "      <td>0.000</td>\n",
       "      <td>1.000</td>\n",
       "      <td>0.000</td>\n",
       "      <td>38.000</td>\n",
       "      <td>242.000</td>\n",
       "      <td>0.000</td>\n",
       "      <td>0.000</td>\n",
       "      <td>0.000</td>\n",
       "      <td>0.000</td>\n",
       "      <td>...</td>\n",
       "      <td>0.000</td>\n",
       "      <td>1.000</td>\n",
       "      <td>0.000</td>\n",
       "      <td>0.000</td>\n",
       "      <td>0.000</td>\n",
       "      <td>17.500</td>\n",
       "      <td>32.080</td>\n",
       "      <td>100.000</td>\n",
       "      <td>2.000</td>\n",
       "      <td>4580386.000</td>\n",
       "    </tr>\n",
       "    <tr>\n",
       "      <th>75%</th>\n",
       "      <td>0.000</td>\n",
       "      <td>0.000</td>\n",
       "      <td>1.000</td>\n",
       "      <td>0.000</td>\n",
       "      <td>53.000</td>\n",
       "      <td>603.000</td>\n",
       "      <td>0.000</td>\n",
       "      <td>0.000</td>\n",
       "      <td>0.000</td>\n",
       "      <td>0.000</td>\n",
       "      <td>...</td>\n",
       "      <td>1.000</td>\n",
       "      <td>1.000</td>\n",
       "      <td>0.000</td>\n",
       "      <td>0.000</td>\n",
       "      <td>0.000</td>\n",
       "      <td>45.000</td>\n",
       "      <td>93.510</td>\n",
       "      <td>300.000</td>\n",
       "      <td>3.000</td>\n",
       "      <td>6073577.000</td>\n",
       "    </tr>\n",
       "    <tr>\n",
       "      <th>max</th>\n",
       "      <td>1.000</td>\n",
       "      <td>1.000</td>\n",
       "      <td>1.000</td>\n",
       "      <td>1.000</td>\n",
       "      <td>254.000</td>\n",
       "      <td>3794.000</td>\n",
       "      <td>1.000</td>\n",
       "      <td>1.000</td>\n",
       "      <td>1.000</td>\n",
       "      <td>1.000</td>\n",
       "      <td>...</td>\n",
       "      <td>1.000</td>\n",
       "      <td>1.000</td>\n",
       "      <td>1.000</td>\n",
       "      <td>1.000</td>\n",
       "      <td>1.000</td>\n",
       "      <td>15989.800</td>\n",
       "      <td>100000.000</td>\n",
       "      <td>30500000.000</td>\n",
       "      <td>116.000</td>\n",
       "      <td>8792893.000</td>\n",
       "    </tr>\n",
       "  </tbody>\n",
       "</table>\n",
       "<p>8 rows × 32 columns</p>\n",
       "</div>"
      ],
      "text/plain": [
       "          fraud  has_analytics  has_logo  fb_published  name_length  user_age  \\\n",
       "count 14337.000      14337.000 14337.000     14337.000    14337.000 14337.000   \n",
       "mean      0.090          0.073     0.842         0.127       41.629   374.227   \n",
       "std       0.286          0.260     0.365         0.333       23.158   418.594   \n",
       "min       0.000          0.000     0.000         0.000        0.000     0.000   \n",
       "25%       0.000          0.000     1.000         0.000       26.000    13.000   \n",
       "50%       0.000          0.000     1.000         0.000       38.000   242.000   \n",
       "75%       0.000          0.000     1.000         0.000       53.000   603.000   \n",
       "max       1.000          1.000     1.000         1.000      254.000  3794.000   \n",
       "\n",
       "             A1        AU        CA        CH  ...    user_1    user_3  \\\n",
       "count 14337.000 14337.000 14337.000 14337.000  ... 14337.000 14337.000   \n",
       "mean      0.002     0.052     0.088     0.000  ...     0.261     0.525   \n",
       "std       0.042     0.222     0.283     0.020  ...     0.439     0.499   \n",
       "min       0.000     0.000     0.000     0.000  ...     0.000     0.000   \n",
       "25%       0.000     0.000     0.000     0.000  ...     0.000     0.000   \n",
       "50%       0.000     0.000     0.000     0.000  ...     0.000     1.000   \n",
       "75%       0.000     0.000     0.000     0.000  ...     1.000     1.000   \n",
       "max       1.000     1.000     1.000     1.000  ...     1.000     1.000   \n",
       "\n",
       "         user_4    body_0  duration  cost min   cost max  quantity_total sum  \\\n",
       "count 14337.000 14337.000 14337.000 14337.000  14337.000           14337.000   \n",
       "mean      0.210     0.058     0.103    67.161    191.936            6850.337   \n",
       "std       0.408     0.233     0.305   287.004   1373.360          337145.229   \n",
       "min       0.000     0.000     0.000    -1.160      0.000               0.000   \n",
       "25%       0.000     0.000     0.000     4.000     15.000              36.000   \n",
       "50%       0.000     0.000     0.000    17.500     32.080             100.000   \n",
       "75%       0.000     0.000     0.000    45.000     93.510             300.000   \n",
       "max       1.000     1.000     1.000 15989.800 100000.000        30500000.000   \n",
       "\n",
       "       ticket_tiers_num   object_id  \n",
       "count         14337.000   14337.000  \n",
       "mean              2.694 4531344.364  \n",
       "std               3.840 1987660.639  \n",
       "min               0.000   47146.000  \n",
       "25%               1.000 2902989.000  \n",
       "50%               2.000 4580386.000  \n",
       "75%               3.000 6073577.000  \n",
       "max             116.000 8792893.000  \n",
       "\n",
       "[8 rows x 32 columns]"
      ]
     },
     "execution_count": 4,
     "metadata": {},
     "output_type": "execute_result"
    }
   ],
   "source": [
    "X_train_og, X_test_og, y_train_og, y_test_og = train_test_split(X,y,test_size=.3,random_state=29)\n",
    "X_train = X_train_og.drop(id_col,axis=1)\n",
    "X_test = X_test_og.drop(id_col,axis=1)\n",
    "y_train = y_train_og.drop(id_col,axis=1)\n",
    "y_test = y_test_og.drop(id_col,axis=1)\n",
    "train = df.copy()\n",
    "train.describe()"
   ]
  },
  {
   "cell_type": "code",
   "execution_count": 5,
   "metadata": {},
   "outputs": [],
   "source": [
    "scaler = StandardScaler()\n",
    "X_train = scaler.fit_transform(X_train)\n",
    "X_test = scaler.fit_transform(X_test)"
   ]
  },
  {
   "cell_type": "code",
   "execution_count": 6,
   "metadata": {},
   "outputs": [
    {
     "name": "stderr",
     "output_type": "stream",
     "text": [
      "/anaconda3/lib/python3.7/site-packages/sklearn/ensemble/gradient_boosting.py:1450: DataConversionWarning: A column-vector y was passed when a 1d array was expected. Please change the shape of y to (n_samples, ), for example using ravel().\n",
      "  y = column_or_1d(y, warn=True)\n",
      "/anaconda3/lib/python3.7/site-packages/sklearn/utils/validation.py:724: DataConversionWarning: A column-vector y was passed when a 1d array was expected. Please change the shape of y to (n_samples, ), for example using ravel().\n",
      "  y = column_or_1d(y, warn=True)\n",
      "/anaconda3/lib/python3.7/site-packages/sklearn/ensemble/bagging.py:623: DataConversionWarning: A column-vector y was passed when a 1d array was expected. Please change the shape of y to (n_samples, ), for example using ravel().\n",
      "  y = column_or_1d(y, warn=True)\n",
      "/anaconda3/lib/python3.7/site-packages/ipykernel_launcher.py:28: DataConversionWarning: A column-vector y was passed when a 1d array was expected. Please change the shape of y to (n_samples,), for example using ravel().\n"
     ]
    },
    {
     "data": {
      "text/plain": [
       "RandomForestClassifier(bootstrap=True, class_weight=None, criterion='gini',\n",
       "                       max_depth=3, max_features='auto', max_leaf_nodes=None,\n",
       "                       min_impurity_decrease=0.0, min_impurity_split=None,\n",
       "                       min_samples_leaf=1, min_samples_split=2,\n",
       "                       min_weight_fraction_leaf=0.0, n_estimators=1000,\n",
       "                       n_jobs=-1, oob_score=False, random_state=29, verbose=0,\n",
       "                       warm_start=False)"
      ]
     },
     "execution_count": 6,
     "metadata": {},
     "output_type": "execute_result"
    }
   ],
   "source": [
    "#create our models\n",
    "gbc = GradientBoostingClassifier(n_estimators=200,\n",
    "                                  learning_rate=.05, \n",
    "                                  validation_fraction=0.1,     #Use 10% of the data for internal validation\n",
    "                                  n_iter_no_change=3,          #Stop Iterating if there is no improvement within 3 iterations\n",
    "                                  max_depth=3, \n",
    "                                  subsample=.9,                #Train only using 90% of the dataset each iteration\n",
    "                                  random_state=29)             #Random Seed\n",
    "gbc.fit(X_train,y_train)\n",
    "\n",
    "ab = AdaBoostClassifier(n_estimators=200,random_state=29,\n",
    "                            learning_rate=.01)\n",
    "ab.fit(X_train,y_train)\n",
    "\n",
    "br = BaggingClassifier(n_estimators=200,\n",
    "                       n_jobs=-1,\n",
    "                       max_samples=.9,\n",
    "                       random_state=29)\n",
    "br.fit(X_train,y_train)\n",
    "\n",
    "dt = DecisionTreeClassifier(max_depth=3,random_state=29)\n",
    "dt.fit(X_train,y_train)\n",
    "\n",
    "rf = RandomForestClassifier(n_estimators=1000,\n",
    "                            max_depth=3,\n",
    "                            random_state=29,\n",
    "                            n_jobs=-1)\n",
    "rf.fit(X_train,y_train)"
   ]
  },
  {
   "cell_type": "code",
   "execution_count": 7,
   "metadata": {},
   "outputs": [],
   "source": [
    "# The Gradient Boosted model by itself\n",
    "y_pred_gb = gbc.predict_proba(X_test)[:,1]\n",
    "fpr_gb, tpr_gb, _ = roc_curve(y_test, y_pred_gb)\n",
    "\n",
    "# The Random Forest model by itself\n",
    "y_pred_rf = rf.predict_proba(X_test)[:,1]\n",
    "fpr_rf, tpr_rf, _ = roc_curve(y_test, y_pred_rf)\n",
    "\n",
    "# The AdaBoost model by itself\n",
    "y_pred_ab = ab.predict_proba(X_test)[:,1]\n",
    "fpr_ab, tpr_ab, _ = roc_curve(y_test, y_pred_ab)\n",
    "\n",
    "# The Bagging model by itself\n",
    "y_pred_br = br.predict_proba(X_test)[:,1]\n",
    "fpr_br, tpr_br, _ = roc_curve(y_test, y_pred_br)\n",
    "\n",
    "# The Decision Tree model by itself\n",
    "y_pred_dt = dt.predict_proba(X_test)[:,1]\n",
    "fpr_dt, tpr_dt, _ = roc_curve(y_test, y_pred_dt)"
   ]
  },
  {
   "cell_type": "code",
   "execution_count": 39,
   "metadata": {},
   "outputs": [
    {
     "data": {
      "image/png": "[encoded data removed]",
      "text/plain": [
       "<Figure size 432x288 with 1 Axes>"
      ]
     },
     "metadata": {
      "needs_background": "light"
     },
     "output_type": "display_data"
    }
   ],
   "source": [
    "plt.figure(1)\n",
    "plt.plot([0, 1], [0, 1], 'k--')\n",
    "plt.plot(fpr_rf, tpr_rf, label='RF')\n",
    "plt.plot(fpr_gb, tpr_gb, label='GB')\n",
    "plt.plot(fpr_ab, tpr_ab, label='AB')\n",
    "plt.plot(fpr_br, tpr_br, label='BR')\n",
    "plt.plot(fpr_dt, tpr_dt, label='DT')\n",
    "plt.xlabel('False positive rate')\n",
    "plt.ylabel('True positive rate')\n",
    "plt.title('ROC curve')\n",
    "plt.legend(loc='best')\n",
    "plt.show()"
   ]
  },
  {
   "cell_type": "code",
   "execution_count": 9,
   "metadata": {},
   "outputs": [
    {
     "name": "stdout",
     "output_type": "stream",
     "text": [
      "Number of Trees:  198\n",
      "\n",
      "Model Report\n",
      "Accuracy : 0.9563\n",
      "AUC Score (Train): 0.952010\n",
      "\n"
     ]
    },
    {
     "data": {
      "image/png": "[encoded data removed]",
      "text/plain": [
       "<Figure size 432x288 with 1 Axes>"
      ]
     },
     "metadata": {
      "needs_background": "light"
     },
     "output_type": "display_data"
    },
    {
     "name": "stdout",
     "output_type": "stream",
     "text": [
      "[[3889   30]\n",
      " [ 158  225]]\n",
      "\n",
      "CV Score : Mean - 0.9636 | Std - 0.0018656 | Min - 0.96144 | Max - 0.96597\n",
      "Optimal Threshold: 0.06241\n"
     ]
    },
    {
     "data": {
      "image/png": "[encoded data removed]",
      "text/plain": [
       "<Figure size 432x288 with 1 Axes>"
      ]
     },
     "metadata": {
      "needs_background": "light"
     },
     "output_type": "display_data"
    }
   ],
   "source": [
    "# See how many iterations it took to learn\n",
    "print(\"Number of Trees: \",gbc.n_estimators_)\n",
    "\n",
    "pred1,thresh1,ft1 = model_summary(train,target,id_col,X_test,y_test,gbc)"
   ]
  },
  {
   "cell_type": "code",
   "execution_count": 10,
   "metadata": {},
   "outputs": [
    {
     "data": {
      "text/plain": [
       "duration             0.374\n",
       "user_age             0.241\n",
       "name_length          0.101\n",
       "cost min             0.051\n",
       "cost max             0.044\n",
       "user_1               0.037\n",
       "MA                   0.021\n",
       "ticket_tiers_num     0.019\n",
       "quantity_total sum   0.019\n",
       "PK                   0.018\n",
       "user_3               0.012\n",
       "GB                   0.012\n",
       "has_logo             0.010\n",
       "VN                   0.009\n",
       "body_0               0.007\n",
       "A1                   0.005\n",
       "fb_published         0.005\n",
       "US                   0.004\n",
       "CZ                   0.004\n",
       "NG                   0.003\n",
       "ID                   0.002\n",
       "CI                   0.001\n",
       "AU                   0.001\n",
       "CA                   0.000\n",
       "PH                   0.000\n",
       "has_analytics        0.000\n",
       "CH                   0.000\n",
       "DZ                   0.000\n",
       "user_4               0.000\n",
       "KH                   0.000\n",
       "dtype: float64"
      ]
     },
     "execution_count": 10,
     "metadata": {},
     "output_type": "execute_result"
    }
   ],
   "source": [
    "ft1"
   ]
  },
  {
   "cell_type": "code",
   "execution_count": 16,
   "metadata": {},
   "outputs": [
    {
     "name": "stdout",
     "output_type": "stream",
     "text": [
      "Precision: 0.48\n",
      "Recall: 0.87\n",
      "Accuracy: 0.90\n",
      "AUC: 0.952\n",
      "\n",
      "Threshold: 0.062\n",
      "\n",
      "% of true positives: 0.869\n",
      "% Engaged: 0.162\n",
      "% of TP in Engaged pop: 0.476\n",
      "\n",
      "\n",
      "[[3553  366]\n",
      " [  50  333]]\n"
     ]
    },
    {
     "data": {
      "text/plain": [
       "0.8065761343544046"
      ]
     },
     "execution_count": 16,
     "metadata": {},
     "output_type": "execute_result"
    }
   ],
   "source": [
    "output_threshold(y_test, pred1,threshold=.062)\n",
    "average_precision_score(y_test, pred1)"
   ]
  },
  {
   "cell_type": "code",
   "execution_count": 35,
   "metadata": {},
   "outputs": [
    {
     "name": "stdout",
     "output_type": "stream",
     "text": [
      "Precision: 0.91\n",
      "Recall: 0.52\n",
      "Accuracy: 0.95\n",
      "AUC: 0.952\n",
      "\n",
      "Threshold: 0.600\n",
      "\n",
      "% of true positives: 0.522\n",
      "% Engaged: 0.051\n",
      "% of TP in Engaged pop: 0.913\n",
      "\n",
      "\n",
      "[[3900   19]\n",
      " [ 183  200]]\n"
     ]
    },
    {
     "data": {
      "text/plain": [
       "0.8065761343544046"
      ]
     },
     "execution_count": 35,
     "metadata": {},
     "output_type": "execute_result"
    }
   ],
   "source": [
    "output_threshold(y_test, pred1,threshold=.6)\n",
    "average_precision_score(y_test, pred1)"
   ]
  },
  {
   "cell_type": "code",
   "execution_count": 24,
   "metadata": {},
   "outputs": [],
   "source": [
    "results_ranked = []\n",
    "for i in range(len(pred1)):\n",
    "    if pred1[i] >= 0.6:\n",
    "        results_ranked.append('High Risk')\n",
    "    elif pred1[i] >= .062:\n",
    "        results_ranked.append('Medium Risk')\n",
    "    else:\n",
    "        results_ranked.append('Low Risk')"
   ]
  },
  {
   "cell_type": "code",
   "execution_count": 25,
   "metadata": {},
   "outputs": [
    {
     "data": {
      "text/plain": [
       "Low Risk       3603\n",
       "Medium Risk     480\n",
       "High Risk       219\n",
       "Name: Score, dtype: int64"
      ]
     },
     "execution_count": 25,
     "metadata": {},
     "output_type": "execute_result"
    }
   ],
   "source": [
    "check = pd.DataFrame(results_ranked)\n",
    "check = pd.concat([check,pd.Series(pred1)],axis=1)\n",
    "check = pd.concat([check,y_test.reset_index(drop=True)],axis=1)\n",
    "check.columns = ['Score','Pred','Actual']\n",
    "check.Score.value_counts()"
   ]
  },
  {
   "cell_type": "code",
   "execution_count": 26,
   "metadata": {},
   "outputs": [
    {
     "name": "stderr",
     "output_type": "stream",
     "text": [
      "/anaconda3/lib/python3.7/site-packages/scipy/stats/stats.py:1713: FutureWarning: Using a non-tuple sequence for multidimensional indexing is deprecated; use `arr[tuple(seq)]` instead of `arr[seq]`. In the future this will be interpreted as an array index, `arr[np.array(seq)]`, which will result either in an error or a different result.\n",
      "  return np.add.reduce(sorted[indexer] * weights, axis=axis) / sumval\n"
     ]
    },
    {
     "data": {
      "text/plain": [
       "<matplotlib.axes._subplots.AxesSubplot at 0x1a8e38a2b0>"
      ]
     },
     "execution_count": 26,
     "metadata": {},
     "output_type": "execute_result"
    },
    {
     "data": {
      "image/png": "[encoded data removed]",
      "text/plain": [
       "<Figure size 1152x576 with 1 Axes>"
      ]
     },
     "metadata": {
      "needs_background": "light"
     },
     "output_type": "display_data"
    }
   ],
   "source": [
    "import seaborn as sns\n",
    "fig = plt.figure(figsize=(16,8))\n",
    "sns.barplot(check.Score,check.Actual,color='blue')"
   ]
  },
  {
   "cell_type": "code",
   "execution_count": 41,
   "metadata": {},
   "outputs": [],
   "source": [
    "out = pd.merge(X_test_og,\n",
    "               y_test_og,\n",
    "               on = 'object_id')\n",
    "out['preds'] = pred1\n",
    "out.to_csv('data/fraudify.csv',index=False)"
   ]
  },
  {
   "cell_type": "code",
   "execution_count": null,
   "metadata": {},
   "outputs": [],
   "source": []
  }
 ],
 "metadata": {
  "kernelspec": {
   "display_name": "Python 3",
   "language": "python",
   "name": "python3"
  },
  "language_info": {
   "codemirror_mode": {
    "name": "ipython",
    "version": 3
   },
   "file_extension": ".py",
   "mimetype": "text/x-python",
   "name": "python",
   "nbconvert_exporter": "python",
   "pygments_lexer": "ipython3",
   "version": "3.7.1"
  }
 },
 "nbformat": 4,
 "nbformat_minor": 2
}
